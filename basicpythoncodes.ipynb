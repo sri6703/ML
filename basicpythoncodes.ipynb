{
  "nbformat": 4,
  "nbformat_minor": 0,
  "metadata": {
    "colab": {
      "provenance": [],
      "collapsed_sections": [],
      "authorship_tag": "ABX9TyPbZiAv9/un55nbpbPt91Ic",
      "include_colab_link": true
    },
    "kernelspec": {
      "name": "python3",
      "display_name": "Python 3"
    },
    "language_info": {
      "name": "python"
    }
  },
  "cells": [
    {
      "cell_type": "markdown",
      "metadata": {
        "id": "view-in-github",
        "colab_type": "text"
      },
      "source": [
        "<a href=\"https://colab.research.google.com/github/sri6703/ML/blob/main/basicpythoncodes.ipynb\" target=\"_parent\"><img src=\"https://colab.research.google.com/assets/colab-badge.svg\" alt=\"Open In Colab\"/></a>"
      ]
    },
    {
      "cell_type": "code",
      "source": [
        "import numpy as np\n",
        "import random\n",
        "import pandas as pd\n",
        "from numpy.linalg import eig"
      ],
      "metadata": {
        "id": "6gmttzjwMCiP"
      },
      "execution_count": null,
      "outputs": []
    },
    {
      "cell_type": "markdown",
      "source": [
        "1."
      ],
      "metadata": {
        "id": "i8N4spHxMEMe"
      }
    },
    {
      "cell_type": "code",
      "execution_count": null,
      "metadata": {
        "colab": {
          "base_uri": "https://localhost:8080/"
        },
        "id": "sC4i_kXnELAE",
        "outputId": "37623346-ab73-45fa-8d40-5e780e570387"
      },
      "outputs": [
        {
          "output_type": "stream",
          "name": "stdout",
          "text": [
            "('aman', '222', 777, 400.4)\n"
          ]
        }
      ],
      "source": [
        "tp=(\"aman\", \"222\", 777, 400.4)\n",
        "print(tp)"
      ]
    },
    {
      "cell_type": "markdown",
      "source": [
        "2."
      ],
      "metadata": {
        "id": "7lc1IJn0FwFm"
      }
    },
    {
      "cell_type": "markdown",
      "source": [],
      "metadata": {
        "id": "Ur4-A5pRFqyN"
      }
    },
    {
      "cell_type": "code",
      "source": [
        "dt={ \"rollno\":\"62\" , \"fname\":\"srinithi\" , \"lname\":\"rajasekaran\" , \"dob\": \"13-12-2002\"}\n",
        "print(dt)"
      ],
      "metadata": {
        "colab": {
          "base_uri": "https://localhost:8080/"
        },
        "id": "PWhYiWd2FAHS",
        "outputId": "16f45775-6805-4d96-df88-6e0c015adeb1"
      },
      "execution_count": null,
      "outputs": [
        {
          "output_type": "stream",
          "name": "stdout",
          "text": [
            "{'rollno': '62', 'fname': 'srinithi', 'lname': 'rajasekaran', 'dob': '13-12-2002'}\n"
          ]
        }
      ]
    },
    {
      "cell_type": "code",
      "source": [
        "dt.values()"
      ],
      "metadata": {
        "colab": {
          "base_uri": "https://localhost:8080/"
        },
        "id": "-ME7ihjNFeJ3",
        "outputId": "77cb4c9b-db37-4cb3-f2d5-8611d942e54b"
      },
      "execution_count": null,
      "outputs": [
        {
          "output_type": "execute_result",
          "data": {
            "text/plain": [
              "dict_values(['62', 'srinithi', 'rajasekaran', '13-12-2002'])"
            ]
          },
          "metadata": {},
          "execution_count": 6
        }
      ]
    },
    {
      "cell_type": "code",
      "source": [
        "dt.keys()"
      ],
      "metadata": {
        "colab": {
          "base_uri": "https://localhost:8080/"
        },
        "id": "GxWeg3xeFlPc",
        "outputId": "9880cf7f-dbcc-47b6-9fcc-0477f68f2af2"
      },
      "execution_count": null,
      "outputs": [
        {
          "output_type": "execute_result",
          "data": {
            "text/plain": [
              "dict_keys(['rollno', 'fname', 'lname', 'dob'])"
            ]
          },
          "metadata": {},
          "execution_count": 8
        }
      ]
    },
    {
      "cell_type": "markdown",
      "source": [
        "3."
      ],
      "metadata": {
        "id": "AevqisuEFy_1"
      }
    },
    {
      "cell_type": "code",
      "source": [
        "np.random.seed() \n",
        "np.random.random((3,3))"
      ],
      "metadata": {
        "colab": {
          "base_uri": "https://localhost:8080/"
        },
        "id": "shP-sDFFFogQ",
        "outputId": "afd30b6b-f8dc-44fc-fc26-307235c3d1a3"
      },
      "execution_count": null,
      "outputs": [
        {
          "output_type": "execute_result",
          "data": {
            "text/plain": [
              "array([[0.92983022, 0.76238923, 0.41341098],\n",
              "       [0.86885625, 0.85738823, 0.12465216],\n",
              "       [0.31314316, 0.26604149, 0.05923094]])"
            ]
          },
          "metadata": {},
          "execution_count": 17
        }
      ]
    },
    {
      "cell_type": "markdown",
      "source": [
        "4."
      ],
      "metadata": {
        "id": "IL5gSwv1L2p3"
      }
    },
    {
      "cell_type": "code",
      "source": [
        "x=np.random.uniform(0.0,1.0)\n",
        "print(x)\n",
        "y=abs(-1234)\n",
        "print(y)"
      ],
      "metadata": {
        "colab": {
          "base_uri": "https://localhost:8080/"
        },
        "id": "VDda8YHtLz7T",
        "outputId": "4890ac4b-1f37-434c-aba1-1979f53434ae"
      },
      "execution_count": null,
      "outputs": [
        {
          "output_type": "stream",
          "name": "stdout",
          "text": [
            "0.6027633760716439\n",
            "1234\n"
          ]
        }
      ]
    },
    {
      "cell_type": "markdown",
      "source": [
        "5."
      ],
      "metadata": {
        "id": "c8CsrcvPNgj-"
      }
    },
    {
      "cell_type": "code",
      "source": [
        "x=np.random.randint(20,90)\n",
        "print(x)"
      ],
      "metadata": {
        "colab": {
          "base_uri": "https://localhost:8080/"
        },
        "id": "oN0gFW1gNhfc",
        "outputId": "0c7686d7-716e-4781-dd38-d5404ba79741"
      },
      "execution_count": null,
      "outputs": [
        {
          "output_type": "stream",
          "name": "stdout",
          "text": [
            "32\n"
          ]
        }
      ]
    },
    {
      "cell_type": "markdown",
      "source": [
        "6."
      ],
      "metadata": {
        "id": "YuRYDJq2PXmE"
      }
    },
    {
      "cell_type": "code",
      "source": [
        "st=[11, 12, 13,14, 15]\n",
        "x=random.sample(st,3)\n",
        "print(x)"
      ],
      "metadata": {
        "colab": {
          "base_uri": "https://localhost:8080/"
        },
        "id": "9dkW8Fc0PXyy",
        "outputId": "82ee97e7-8d93-47ca-e200-3b0fc9b2faac"
      },
      "execution_count": null,
      "outputs": [
        {
          "output_type": "stream",
          "name": "stdout",
          "text": [
            "[13, 14, 11]\n"
          ]
        }
      ]
    },
    {
      "cell_type": "code",
      "source": [
        "random.shuffle(st)\n",
        "print(st)"
      ],
      "metadata": {
        "colab": {
          "base_uri": "https://localhost:8080/"
        },
        "id": "8ahSPWuuV6qr",
        "outputId": "c5273763-bbdc-49a8-9400-1524f898015b"
      },
      "execution_count": null,
      "outputs": [
        {
          "output_type": "stream",
          "name": "stdout",
          "text": [
            "[15, 12, 13, 11, 14]\n"
          ]
        }
      ]
    },
    {
      "cell_type": "code",
      "source": [
        "y=random.choice(st)\n",
        "print(y)"
      ],
      "metadata": {
        "colab": {
          "base_uri": "https://localhost:8080/"
        },
        "id": "caCf9TgWWbAD",
        "outputId": "a2830dd9-cc01-4f16-fb3e-ada63494b191"
      },
      "execution_count": null,
      "outputs": [
        {
          "output_type": "stream",
          "name": "stdout",
          "text": [
            "11\n"
          ]
        }
      ]
    },
    {
      "cell_type": "markdown",
      "source": [
        "7."
      ],
      "metadata": {
        "id": "CE6wI_AcW8xr"
      }
    },
    {
      "cell_type": "code",
      "source": [
        "f=open(\"king.txt\",'w')\n",
        "f.write(\"The King is Dead, Long Live The King\")\n",
        "f=open(\"king.txt\",'r')\n",
        "print(f.read())\n"
      ],
      "metadata": {
        "colab": {
          "base_uri": "https://localhost:8080/"
        },
        "id": "-ziyDDmvW-Uu",
        "outputId": "10031360-f3d2-4883-9ad0-b5ac0358d74b"
      },
      "execution_count": null,
      "outputs": [
        {
          "output_type": "stream",
          "name": "stdout",
          "text": [
            "The King is Dead, Long Live The King\n"
          ]
        }
      ]
    },
    {
      "cell_type": "markdown",
      "source": [
        "8."
      ],
      "metadata": {
        "id": "F7Rkbj7aY4N6"
      }
    },
    {
      "cell_type": "code",
      "source": [
        "x=int(input(\"enter the mark\"))\n",
        "if x>90 :\n",
        "  gr='A'\n",
        "elif x>80 :\n",
        "    gr='B'\n",
        "elif x>70 :\n",
        "    gr='C'\n",
        "elif x>50 :\n",
        "    gr='D'\n",
        "else :\n",
        "    gr='E'\n",
        "print(\"grade for the given mark is :\",gr)\n"
      ],
      "metadata": {
        "colab": {
          "base_uri": "https://localhost:8080/"
        },
        "id": "zeVzP9cCY5Gr",
        "outputId": "c699a29c-f1c7-4bd7-8046-c19e6c38b511"
      },
      "execution_count": null,
      "outputs": [
        {
          "output_type": "stream",
          "name": "stdout",
          "text": [
            "enter the mark45\n",
            "grade for the given mark is : E\n"
          ]
        }
      ]
    },
    {
      "cell_type": "code",
      "source": [
        "lt=[]\n",
        "print(\"enter 4 values\")\n",
        "for i in range (0,4):\n",
        "  a=int(input())\n",
        "  lt.append(a)\n",
        "sum=0\n",
        "for i in range (0,4):\n",
        "  sum=sum+lt[i]\n",
        "print(\"sum of all the umbers is:\" , sum)\n",
        "\n",
        "  "
      ],
      "metadata": {
        "colab": {
          "base_uri": "https://localhost:8080/"
        },
        "id": "M26FPHFsZ6Cw",
        "outputId": "a8d54625-6c4d-485f-d317-c76f84c78eaf"
      },
      "execution_count": null,
      "outputs": [
        {
          "output_type": "stream",
          "name": "stdout",
          "text": [
            "enter 4 values\n",
            "1\n",
            "2\n",
            "3\n",
            "4\n",
            "sum of all the umbers is: 10\n"
          ]
        }
      ]
    },
    {
      "cell_type": "code",
      "source": [
        "#counting untill the entered value is not 5 \n",
        "lt=[1,2,3,4,5]\n",
        "sz=len(lt)\n",
        "count=0\n",
        "for i in range (0,sz):\n",
        "  if lt[i]!= 5 :\n",
        "    count=count+1\n",
        "    continue\n",
        "  else:\n",
        "    break\n",
        "print(count)\n"
      ],
      "metadata": {
        "colab": {
          "base_uri": "https://localhost:8080/"
        },
        "id": "zup1qRuVa6Lo",
        "outputId": "701e76e0-fad8-4503-a810-c6ed966350d5"
      },
      "execution_count": null,
      "outputs": [
        {
          "output_type": "stream",
          "name": "stdout",
          "text": [
            "4\n"
          ]
        }
      ]
    },
    {
      "cell_type": "code",
      "source": [
        "#prining a number in backwards\n",
        "x=int(input(\"enter a number\"))\n",
        "n=x\n",
        "c=1\n",
        "while n>0 :\n",
        "  print(\"digit\",c,\":\",n%10)\n",
        "  n=int(n/10)\n",
        "  c=c+1\n",
        "\n"
      ],
      "metadata": {
        "colab": {
          "base_uri": "https://localhost:8080/"
        },
        "id": "pTtwKK12b8dX",
        "outputId": "59a6a00c-fcfb-4f2d-ed10-95ac2bcb7287"
      },
      "execution_count": null,
      "outputs": [
        {
          "output_type": "stream",
          "name": "stdout",
          "text": [
            "enter a number104\n",
            "digit 1 : 4\n",
            "digit 2 : 0\n",
            "digit 3 : 1\n"
          ]
        }
      ]
    },
    {
      "cell_type": "markdown",
      "source": [
        "9."
      ],
      "metadata": {
        "id": "eDGCTB5ldtnm"
      }
    },
    {
      "cell_type": "code",
      "source": [
        "sr=\"The King is Dead, Long Live The King\"\n",
        "print(\"printing the entire string:\")\n",
        "print(sr)\n",
        "print(\"Print first character of the string:\")\n",
        "print(sr[0])\n",
        "print(\"Print characters starting from 3rd to 5th\")\n",
        "print(sr[3:6])\n",
        "print(\"Print string starting from 3rd character\")\n",
        "print(sr[3:])\n",
        "print(\"Split the words:\")\n",
        "sr.split()"
      ],
      "metadata": {
        "colab": {
          "base_uri": "https://localhost:8080/"
        },
        "id": "-BCUvxBRdufd",
        "outputId": "1b5c36c2-2850-42ef-ba05-ff4ca3b874f7"
      },
      "execution_count": null,
      "outputs": [
        {
          "output_type": "stream",
          "name": "stdout",
          "text": [
            "printing the entire string:\n",
            "The King is Dead, Long Live The King\n",
            "Print first character of the string:\n",
            "T\n",
            "Print characters starting from 3rd to 5th\n",
            " Ki\n",
            "Print string starting from 3rd character\n",
            " King is Dead, Long Live The King\n",
            "Split the words:\n"
          ]
        },
        {
          "output_type": "execute_result",
          "data": {
            "text/plain": [
              "['The', 'King', 'is', 'Dead,', 'Long', 'Live', 'The', 'King']"
            ]
          },
          "metadata": {},
          "execution_count": 76
        }
      ]
    },
    {
      "cell_type": "markdown",
      "source": [
        "10."
      ],
      "metadata": {
        "id": "QXGk3mOnfOae"
      }
    },
    {
      "cell_type": "code",
      "source": [
        "lt=[1,4,5,8]\n",
        "print(lt[0:2])"
      ],
      "metadata": {
        "colab": {
          "base_uri": "https://localhost:8080/"
        },
        "id": "OrnLsGFMfPJc",
        "outputId": "11347ae0-a71d-409f-91f2-141363888130"
      },
      "execution_count": null,
      "outputs": [
        {
          "output_type": "stream",
          "name": "stdout",
          "text": [
            "[1, 4]\n"
          ]
        }
      ]
    },
    {
      "cell_type": "markdown",
      "source": [
        "11."
      ],
      "metadata": {
        "id": "j34uBSPNtppk"
      }
    },
    {
      "cell_type": "code",
      "source": [
        "ar=np.array([[1,2,3],[4,5,6]])\n",
        "print(ar)\n",
        "print(ar[0][1])"
      ],
      "metadata": {
        "colab": {
          "base_uri": "https://localhost:8080/"
        },
        "id": "69ArhtyGtqc9",
        "outputId": "5ecd774b-078c-4bd9-931a-98eba6014655"
      },
      "execution_count": null,
      "outputs": [
        {
          "output_type": "stream",
          "name": "stdout",
          "text": [
            "[[1 2 3]\n",
            " [4 5 6]]\n",
            "2\n"
          ]
        }
      ]
    },
    {
      "cell_type": "markdown",
      "source": [
        "12."
      ],
      "metadata": {
        "id": "5N8qp_lXuL0K"
      }
    },
    {
      "cell_type": "code",
      "source": [
        "print(ar[1,0:3])\n",
        "ar.flatten()\n"
      ],
      "metadata": {
        "colab": {
          "base_uri": "https://localhost:8080/"
        },
        "id": "dqO7dfuBuMwp",
        "outputId": "b1e9351d-b0e6-4b8d-db14-91057ad3ada4"
      },
      "execution_count": null,
      "outputs": [
        {
          "output_type": "stream",
          "name": "stdout",
          "text": [
            "[4 5 6]\n"
          ]
        },
        {
          "output_type": "execute_result",
          "data": {
            "text/plain": [
              "array([1, 2, 3, 4, 5, 6])"
            ]
          },
          "metadata": {},
          "execution_count": 100
        }
      ]
    },
    {
      "cell_type": "code",
      "source": [
        "print(\"length of the array :\",len(ar))"
      ],
      "metadata": {
        "colab": {
          "base_uri": "https://localhost:8080/"
        },
        "id": "HDCVBSrUwn98",
        "outputId": "aff242d4-dc84-4f8a-c45f-e25e0f160363"
      },
      "execution_count": null,
      "outputs": [
        {
          "output_type": "stream",
          "name": "stdout",
          "text": [
            "length of the array : 2\n"
          ]
        }
      ]
    },
    {
      "cell_type": "markdown",
      "source": [
        "13."
      ],
      "metadata": {
        "id": "RboPXXNVwsDM"
      }
    },
    {
      "cell_type": "code",
      "source": [
        "arr=np.array([1,2,3,4,5,6,7,8,9,99])\n",
        "att=arr.reshape(5,2)\n",
        "print(att)\n"
      ],
      "metadata": {
        "colab": {
          "base_uri": "https://localhost:8080/"
        },
        "id": "nwC8L4WpwtD9",
        "outputId": "0972507e-e280-4385-fb1d-53969116f2fd"
      },
      "execution_count": null,
      "outputs": [
        {
          "output_type": "stream",
          "name": "stdout",
          "text": [
            "[[ 1  2]\n",
            " [ 3  4]\n",
            " [ 5  6]\n",
            " [ 7  8]\n",
            " [ 9 99]]\n"
          ]
        }
      ]
    },
    {
      "cell_type": "code",
      "source": [
        "at=att.transpose()\n",
        "print(at)"
      ],
      "metadata": {
        "colab": {
          "base_uri": "https://localhost:8080/"
        },
        "id": "r9XiFnan56af",
        "outputId": "2e668a9f-6950-46dc-8373-2eca31280567"
      },
      "execution_count": null,
      "outputs": [
        {
          "output_type": "stream",
          "name": "stdout",
          "text": [
            "[[ 1  3  5  7  9]\n",
            " [ 2  4  6  8 99]]\n"
          ]
        }
      ]
    },
    {
      "cell_type": "markdown",
      "source": [
        "14."
      ],
      "metadata": {
        "id": "Hbf9DEbOvOLn"
      }
    },
    {
      "cell_type": "code",
      "source": [
        "lt=[1,2,3]\n",
        "ars=np.array(lt)\n",
        "print(ars)"
      ],
      "metadata": {
        "colab": {
          "base_uri": "https://localhost:8080/"
        },
        "id": "yPTTXvPQ6oP1",
        "outputId": "44c9011a-41dc-4f20-ecbf-bffd0dda5dcf"
      },
      "execution_count": null,
      "outputs": [
        {
          "output_type": "stream",
          "name": "stdout",
          "text": [
            "[1 2 3]\n"
          ]
        }
      ]
    },
    {
      "cell_type": "markdown",
      "source": [
        "15."
      ],
      "metadata": {
        "id": "WtV296YA7O4D"
      }
    },
    {
      "cell_type": "code",
      "source": [
        "at=np.full((2,5),9)\n",
        "print(at)"
      ],
      "metadata": {
        "colab": {
          "base_uri": "https://localhost:8080/"
        },
        "id": "xlXIe93o7P3p",
        "outputId": "1445a1cd-3054-47fe-e2b4-efa0aaa500f0"
      },
      "execution_count": null,
      "outputs": [
        {
          "output_type": "stream",
          "name": "stdout",
          "text": [
            "[[9 9 9 9 9]\n",
            " [9 9 9 9 9]]\n"
          ]
        }
      ]
    },
    {
      "cell_type": "markdown",
      "source": [
        "16."
      ],
      "metadata": {
        "id": "vHqJ5Gv98xdV"
      }
    },
    {
      "cell_type": "code",
      "source": [
        "art=np.array([2,4,5])\n",
        "sum=0\n",
        "n=len(art)\n",
        "for i in range (0,n):\n",
        "  sum=sum+art[i]\n",
        "print(sum)"
      ],
      "metadata": {
        "colab": {
          "base_uri": "https://localhost:8080/"
        },
        "id": "mTLb0QgH8ye3",
        "outputId": "26ee5e4a-92f6-4e79-c3f5-99519be2daed"
      },
      "execution_count": null,
      "outputs": [
        {
          "output_type": "stream",
          "name": "stdout",
          "text": [
            "11\n"
          ]
        }
      ]
    },
    {
      "cell_type": "markdown",
      "source": [
        "17."
      ],
      "metadata": {
        "id": "fmMZn8Gz9MD2"
      }
    },
    {
      "cell_type": "code",
      "source": [
        "art=np.array([77,74,75])\n",
        "pro=1\n",
        "n=len(art)\n",
        "for i in range (0,n):\n",
        "  pro=pro*art[i]\n",
        "print(pro)"
      ],
      "metadata": {
        "colab": {
          "base_uri": "https://localhost:8080/"
        },
        "id": "QAQbKfJw9MSJ",
        "outputId": "6e441bc2-aa6e-40f3-9724-34941b442914"
      },
      "execution_count": null,
      "outputs": [
        {
          "output_type": "stream",
          "name": "stdout",
          "text": [
            "427350\n"
          ]
        }
      ]
    },
    {
      "cell_type": "markdown",
      "source": [
        "18."
      ],
      "metadata": {
        "id": "4Caqp5hG-D3L"
      }
    },
    {
      "cell_type": "code",
      "source": [
        "arry=np.array([2,1,9,1,2,22,1,1,4,55,6,2,56])\n",
        "print(\"mean :\",arry.mean())\n",
        "print(\"variance :\",arry.var())\n",
        "print(\"min :\",arry.min())\n",
        "print(\"max :\",arry.max())\n",
        "print(\"argmin :\",arry.argmin())\n",
        "print(\"argmax :\",arry.argmax())\n",
        "print(\"standard deviation :\",arry.std())\n",
        "print(\"median :\",np.median(arry))"
      ],
      "metadata": {
        "colab": {
          "base_uri": "https://localhost:8080/"
        },
        "id": "0XiHqOnL-EDH",
        "outputId": "583aabb6-a64c-4605-9115-bf658e086e57"
      },
      "execution_count": null,
      "outputs": [
        {
          "output_type": "stream",
          "name": "stdout",
          "text": [
            "mean : 12.461538461538462\n",
            "variance : 367.32544378698225\n",
            "min : 1\n",
            "max : 56\n",
            "argmin : 1\n",
            "argmax : 12\n",
            "standard deviation : 19.165736192147232\n",
            "median : 2.0\n"
          ]
        }
      ]
    },
    {
      "cell_type": "markdown",
      "source": [
        "19."
      ],
      "metadata": {
        "id": "1AS3pw0hAVh3"
      }
    },
    {
      "cell_type": "code",
      "source": [
        "are=np.array([1, 1, 4, 5, 5, 5, 7])\n",
        "arrt=np.unique(are)\n",
        "arrt.sort()\n",
        "print(arrt)"
      ],
      "metadata": {
        "colab": {
          "base_uri": "https://localhost:8080/"
        },
        "id": "F2ILzovNAVuC",
        "outputId": "cccaed1b-396f-4046-fac6-afe7641713ae"
      },
      "execution_count": null,
      "outputs": [
        {
          "output_type": "stream",
          "name": "stdout",
          "text": [
            "[1 4 5 7]\n"
          ]
        }
      ]
    },
    {
      "cell_type": "markdown",
      "source": [
        "20."
      ],
      "metadata": {
        "id": "ieElO5aUAzGg"
      }
    },
    {
      "cell_type": "code",
      "source": [
        "a1=np.array([1,2,3])\n",
        "a2=np.array([0,1,1])\n",
        "ans=np.dot(a1,a2)\n",
        "print(ans)"
      ],
      "metadata": {
        "colab": {
          "base_uri": "https://localhost:8080/"
        },
        "id": "BD9grB-cAzSm",
        "outputId": "cd181018-eac1-41f2-ccfa-bd6ffd8d064b"
      },
      "execution_count": null,
      "outputs": [
        {
          "output_type": "stream",
          "name": "stdout",
          "text": [
            "5\n"
          ]
        }
      ]
    },
    {
      "cell_type": "markdown",
      "source": [
        "21."
      ],
      "metadata": {
        "id": "WzZ8fKw8BNpQ"
      }
    },
    {
      "cell_type": "code",
      "source": [
        "mat=np.array([[2,-12],[1,-5]])\n",
        "val,vec=eig(mat)\n",
        "print(\"eigen value: \",val)\n",
        "print(\"eigen vector: \",vec)"
      ],
      "metadata": {
        "colab": {
          "base_uri": "https://localhost:8080/"
        },
        "id": "yPcoszSMBN9j",
        "outputId": "71a917e8-479a-4c52-c34c-17291bc5e40e"
      },
      "execution_count": null,
      "outputs": [
        {
          "output_type": "stream",
          "name": "stdout",
          "text": [
            "eigen value:  [-1. -2.]\n",
            "eigen vector:  [[0.9701425  0.9486833 ]\n",
            " [0.24253563 0.31622777]]\n"
          ]
        }
      ]
    }
  ]
}