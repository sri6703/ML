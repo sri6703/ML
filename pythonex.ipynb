{
  "nbformat": 4,
  "nbformat_minor": 0,
  "metadata": {
    "colab": {
      "provenance": [],
      "collapsed_sections": [],
      "authorship_tag": "ABX9TyPqLWclLayNEDASfnytuvdB",
      "include_colab_link": true
    },
    "kernelspec": {
      "name": "python3",
      "display_name": "Python 3"
    },
    "language_info": {
      "name": "python"
    }
  },
  "cells": [
    {
      "cell_type": "markdown",
      "metadata": {
        "id": "view-in-github",
        "colab_type": "text"
      },
      "source": [
        "<a href=\"https://colab.research.google.com/github/sri6703/ML/blob/main/pythonex.ipynb\" target=\"_parent\"><img src=\"https://colab.research.google.com/assets/colab-badge.svg\" alt=\"Open In Colab\"/></a>"
      ]
    },
    {
      "cell_type": "code",
      "execution_count": null,
      "metadata": {
        "colab": {
          "base_uri": "https://localhost:8080/"
        },
        "id": "C92YiAgeemgv",
        "outputId": "b510ab0a-7f2b-4fd1-edc8-73605029eecc"
      },
      "outputs": [
        {
          "output_type": "stream",
          "name": "stdout",
          "text": [
            "enter value 11\n",
            "enter value 22\n",
            "enter value 32\n",
            "0.04039999999999999\n"
          ]
        }
      ],
      "source": [
        "p=input(\"enter value 1\")\n",
        "t=input(\"enter value 2\")\n",
        "r=input(\"enter value 3\")\n",
        "p=int(p)\n",
        "t=int(t)\n",
        "r=int(r)\n",
        "a=pow(p*(1+r/100),t)\n",
        "ci=a-p\n",
        "print(ci)"
      ]
    },
    {
      "cell_type": "code",
      "source": [
        "a=[]\n",
        "n=int(input(\"enter the number of elements\"))\n",
        "for i in range (0,n):\n",
        "  a.append(input())\n",
        "for i in  a:\n",
        "  c=0\n",
        "  for j in a:\n",
        "    if (i==j):\n",
        "      c=c+1\n",
        "  print(\"percentage of the string\", i,\"in the list is :\")\n",
        "  perc=(c/n)*100\n",
        "  print(perc)\n",
        "\n",
        "\n"
      ],
      "metadata": {
        "colab": {
          "base_uri": "https://localhost:8080/"
        },
        "id": "R-WWPAU2ghIy",
        "outputId": "9ba36762-6d27-455a-e5cd-4eafed6d65a3"
      },
      "execution_count": null,
      "outputs": [
        {
          "output_type": "stream",
          "name": "stdout",
          "text": [
            "enter the number of elements3\n",
            "sri\n",
            "sri\n",
            "dfg\n",
            "percentage of the string sri in the list is :\n",
            "66.66666666666666\n",
            "percentage of the string sri in the list is :\n",
            "66.66666666666666\n",
            "percentage of the string dfg in the list is :\n",
            "33.33333333333333\n"
          ]
        }
      ]
    },
    {
      "cell_type": "code",
      "source": [
        "def divcheck( n) :\n",
        "\ttemp = n\n",
        "\twhile (temp > 0) :\n",
        "\t\tdig = temp % 10\n",
        "\t\tif n % dig !=0 :\n",
        "\t\t\treturn False\n",
        "\t\ttemp =temp//10\n",
        "\treturn True\n",
        "n = int(input())\n",
        "if (divcheck(n)) :\n",
        "\tprint(\"Yes\")\n",
        "else :\n",
        "\tprint(\"No\" )"
      ],
      "metadata": {
        "colab": {
          "base_uri": "https://localhost:8080/"
        },
        "id": "EdiWHzfhk-iJ",
        "outputId": "efb037b3-d435-4ed4-9a25-f95937fa2671"
      },
      "execution_count": null,
      "outputs": [
        {
          "output_type": "stream",
          "name": "stdout",
          "text": [
            "345\n",
            "No\n"
          ]
        }
      ]
    },
    {
      "cell_type": "code",
      "source": [
        "num=int(input())\n",
        "ch=0\n",
        "b=bin(num)\n",
        "n=len(b)-1\n",
        "m=2\n",
        "while(ch==0 and m<n and n>1):\n",
        "  if(b[m]==b[n]):\n",
        "    ch=0\n",
        "  else:\n",
        "    ch=1\n",
        "  m=m+1\n",
        "  n=n-1\n",
        "if(ch==0):\n",
        "  print(\"yes\")\n",
        "else :\n",
        "  print(\"no\")\n",
        "\n",
        "\n",
        "  \n",
        "\n",
        "\n"
      ],
      "metadata": {
        "colab": {
          "base_uri": "https://localhost:8080/"
        },
        "id": "1HaYGONvniDk",
        "outputId": "3e975bca-674d-493d-e743-66425b2c6064"
      },
      "execution_count": null,
      "outputs": [
        {
          "output_type": "stream",
          "name": "stdout",
          "text": [
            "10\n",
            "no\n"
          ]
        }
      ]
    },
    {
      "cell_type": "code",
      "source": [
        "num=[]\n",
        "print(\"enter n\")\n",
        "n=int(input())\n",
        "for i in range (0,n):\n",
        "  num.append(input())\n",
        "\n",
        "num.sort(reverse=True)\n",
        "print(num[1])\n"
      ],
      "metadata": {
        "colab": {
          "base_uri": "https://localhost:8080/"
        },
        "id": "hGD5pFRwqWx8",
        "outputId": "263f45f5-dccd-4665-cf81-c9206dc154f1"
      },
      "execution_count": null,
      "outputs": [
        {
          "output_type": "stream",
          "name": "stdout",
          "text": [
            "enter n\n",
            "4\n",
            "1\n",
            "2\n",
            "3\n",
            "4\n",
            "3\n"
          ]
        }
      ]
    },
    {
      "cell_type": "code",
      "source": [
        "import numpy as np\n",
        "  \n",
        "# 3D Array    \n",
        "array = np.random.randint(0,10,size=(4,5,2))\n",
        "print(\"values\",\"\\n\", array);"
      ],
      "metadata": {
        "colab": {
          "base_uri": "https://localhost:8080/"
        },
        "id": "mJiWn6kQt8T-",
        "outputId": "66968e20-50b7-447f-abba-f310be655fda"
      },
      "execution_count": null,
      "outputs": [
        {
          "output_type": "stream",
          "name": "stdout",
          "text": [
            "values \n",
            " [[[2 7]\n",
            "  [6 2]\n",
            "  [9 9]\n",
            "  [6 7]\n",
            "  [6 7]]\n",
            "\n",
            " [[7 6]\n",
            "  [8 7]\n",
            "  [5 0]\n",
            "  [6 6]\n",
            "  [1 0]]\n",
            "\n",
            " [[9 0]\n",
            "  [1 3]\n",
            "  [1 7]\n",
            "  [1 5]\n",
            "  [0 2]]\n",
            "\n",
            " [[3 2]\n",
            "  [7 6]\n",
            "  [5 6]\n",
            "  [5 9]\n",
            "  [2 8]]]\n"
          ]
        }
      ]
    },
    {
      "cell_type": "code",
      "source": [
        "import numpy as np\n",
        "c=[11.56,90.89,-18.06]\n",
        "centi=np.array(c)\n",
        "print(\"TEMPERATURE IN F:\",np.round((9*centi/5 + 32),2))"
      ],
      "metadata": {
        "colab": {
          "base_uri": "https://localhost:8080/"
        },
        "id": "xOj9ze6kwpm0",
        "outputId": "3a44797d-cc70-4ada-ed24-e7e02a56151a"
      },
      "execution_count": null,
      "outputs": [
        {
          "output_type": "stream",
          "name": "stdout",
          "text": [
            "TEMPERATURE IN F: [ 52.81 195.6   -0.51]\n"
          ]
        }
      ]
    },
    {
      "cell_type": "code",
      "source": [
        "import numpy as np    \n",
        "\n",
        "\n",
        "x = np.array([[ 0,  1,  2,  3,  4,  5],\n",
        "       [12, 13, 14, 15, 16, 17]])\n",
        "print(x)\n",
        "print(\"\\nNumber of dimensions:\")\n",
        "print(x.ndim)\n",
        "print(\"Number of elements:\")\n",
        "print(x.size)\n",
        "print(\"Number of bytes for each element in the said array:\")\n",
        "print(x.itemsize)"
      ],
      "metadata": {
        "colab": {
          "base_uri": "https://localhost:8080/"
        },
        "id": "gnAQS_LdwuWA",
        "outputId": "df67c1ce-a842-4e99-ca88-83de26f977f7"
      },
      "execution_count": null,
      "outputs": [
        {
          "output_type": "stream",
          "name": "stdout",
          "text": [
            "[[ 0  1  2  3  4  5]\n",
            " [12 13 14 15 16 17]]\n",
            "\n",
            "Number of dimensions:\n",
            "2\n",
            "Number of elements:\n",
            "12\n",
            "Number of bytes for each element in the said array:\n",
            "8\n"
          ]
        }
      ]
    },
    {
      "cell_type": "code",
      "source": [
        "import numpy as np\n",
        "x=np.array([[1,2,3,4],\n",
        "            [5,6,7,8],\n",
        "            [9,5,4,2]])\n",
        "print(x[0:2, 1:3])"
      ],
      "metadata": {
        "colab": {
          "base_uri": "https://localhost:8080/"
        },
        "id": "HONyzfhawxvG",
        "outputId": "5c5b42e3-ab93-4344-9bad-121bed5bd8fb"
      },
      "execution_count": null,
      "outputs": [
        {
          "output_type": "stream",
          "name": "stdout",
          "text": [
            "[[2 3]\n",
            " [6 7]]\n"
          ]
        }
      ]
    }
  ]
}